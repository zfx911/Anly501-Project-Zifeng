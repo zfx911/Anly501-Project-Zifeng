{
 "cells": [
  {
   "cell_type": "code",
   "execution_count": 32,
   "metadata": {},
   "outputs": [],
   "source": [
    "import numpy as np\n",
    "import matplotlib\n",
    "import matplotlib.pyplot as plt\n",
    "from IPython.display import Image\n",
    "from   scipy.optimize import minimize\n",
    "import pandas as pd\n",
    "from sklearn.preprocessing import LabelEncoder"
   ]
  },
  {
   "cell_type": "code",
   "execution_count": 13,
   "metadata": {},
   "outputs": [],
   "source": [
    "df_amazon=pd.read_csv('./data_cleaned/tw amazon.csv')\n",
    "df_walmart=pd.read_csv('./data_cleaned/tw walmart.csv')\n",
    "df_target=pd.read_csv('./data_cleaned/tw target.csv')\n",
    "df_eBay=pd.read_csv('./data_cleaned/tw eBay.csv')\n",
    "df_Bestbuy=pd.read_csv('./data_cleaned/tw Bestbuy.csv')"
   ]
  },
  {
   "cell_type": "markdown",
   "metadata": {},
   "source": [
    "Combining the datasets from the row."
   ]
  },
  {
   "cell_type": "code",
   "execution_count": 27,
   "metadata": {},
   "outputs": [
    {
     "data": {
      "text/html": [
       "<div>\n",
       "<style scoped>\n",
       "    .dataframe tbody tr th:only-of-type {\n",
       "        vertical-align: middle;\n",
       "    }\n",
       "\n",
       "    .dataframe tbody tr th {\n",
       "        vertical-align: top;\n",
       "    }\n",
       "\n",
       "    .dataframe thead th {\n",
       "        text-align: right;\n",
       "    }\n",
       "</style>\n",
       "<table border=\"1\" class=\"dataframe\">\n",
       "  <thead>\n",
       "    <tr style=\"text-align: right;\">\n",
       "      <th></th>\n",
       "      <th>public_metrics</th>\n",
       "      <th>edit_history_tweet_ids</th>\n",
       "      <th>id</th>\n",
       "      <th>created_at</th>\n",
       "      <th>source</th>\n",
       "      <th>author_id</th>\n",
       "      <th>lang</th>\n",
       "      <th>text</th>\n",
       "      <th>cleaned_text</th>\n",
       "      <th>Tweet_tokenized</th>\n",
       "    </tr>\n",
       "  </thead>\n",
       "  <tbody>\n",
       "    <tr>\n",
       "      <th>0</th>\n",
       "      <td>{'retweet_count': 0, 'reply_count': 0, 'like_c...</td>\n",
       "      <td>['1578819408352665601']</td>\n",
       "      <td>1578819408352665601</td>\n",
       "      <td>2022-10-08T18:47:34.000Z</td>\n",
       "      <td>Twitter for iPhone</td>\n",
       "      <td>1108818128836927488</td>\n",
       "      <td>en</td>\n",
       "      <td>I’m tired\\nPissed off\\nI’m old\\nI work with fu...</td>\n",
       "      <td>tiredPissed offIm oldI work with fucking idiot...</td>\n",
       "      <td>['tiredpissed', 'offim', 'oldi', 'work', 'with...</td>\n",
       "    </tr>\n",
       "    <tr>\n",
       "      <th>1</th>\n",
       "      <td>{'retweet_count': 7, 'reply_count': 0, 'like_c...</td>\n",
       "      <td>['1578819405168857088']</td>\n",
       "      <td>1578819405168857088</td>\n",
       "      <td>2022-10-08T18:47:33.000Z</td>\n",
       "      <td>Twitter for iPhone</td>\n",
       "      <td>4835001889</td>\n",
       "      <td>en</td>\n",
       "      <td>RT @hswapnil: Age alone should not be a criter...</td>\n",
       "      <td>hswapnil alone should criterion kidney transpl...</td>\n",
       "      <td>['hswapnil', 'alone', 'should', 'criterion', '...</td>\n",
       "    </tr>\n",
       "    <tr>\n",
       "      <th>2</th>\n",
       "      <td>{'retweet_count': 0, 'reply_count': 0, 'like_c...</td>\n",
       "      <td>['1578819402732306432']</td>\n",
       "      <td>1578819402732306432</td>\n",
       "      <td>2022-10-08T18:47:33.000Z</td>\n",
       "      <td>Twitter for iPhone</td>\n",
       "      <td>1377094240824594435</td>\n",
       "      <td>en</td>\n",
       "      <td>Target got this Early Black Friday Sale 🥴</td>\n",
       "      <td>Target this Early Black Friday Sale</td>\n",
       "      <td>['target', 'this', 'early', 'black', 'friday',...</td>\n",
       "    </tr>\n",
       "    <tr>\n",
       "      <th>3</th>\n",
       "      <td>{'retweet_count': 0, 'reply_count': 0, 'like_c...</td>\n",
       "      <td>['1578819402648424449']</td>\n",
       "      <td>1578819402648424449</td>\n",
       "      <td>2022-10-08T18:47:33.000Z</td>\n",
       "      <td>Twitter Web App</td>\n",
       "      <td>1557261092556271616</td>\n",
       "      <td>en</td>\n",
       "      <td>$qnt Top analyst price target for next week;:~...</td>\n",
       "      <td>analyst price target next weekhttpstcozbC9XFp5Ge</td>\n",
       "      <td>['analyst', 'price', 'target', 'next', 'weekht...</td>\n",
       "    </tr>\n",
       "    <tr>\n",
       "      <th>4</th>\n",
       "      <td>{'retweet_count': 0, 'reply_count': 1, 'like_c...</td>\n",
       "      <td>['1578819401281077248']</td>\n",
       "      <td>1578819401281077248</td>\n",
       "      <td>2022-10-08T18:47:32.000Z</td>\n",
       "      <td>Twitter for iPhone</td>\n",
       "      <td>898589809370816514</td>\n",
       "      <td>en</td>\n",
       "      <td>NO I MEANT TO GO TO TARGET AFTWR WORK</td>\n",
       "      <td>MEANT TARGET AFTWR WORK</td>\n",
       "      <td>['meant', 'target', 'aftwr', 'work']</td>\n",
       "    </tr>\n",
       "  </tbody>\n",
       "</table>\n",
       "</div>"
      ],
      "text/plain": [
       "                                      public_metrics   edit_history_tweet_ids  \\\n",
       "0  {'retweet_count': 0, 'reply_count': 0, 'like_c...  ['1578819408352665601']   \n",
       "1  {'retweet_count': 7, 'reply_count': 0, 'like_c...  ['1578819405168857088']   \n",
       "2  {'retweet_count': 0, 'reply_count': 0, 'like_c...  ['1578819402732306432']   \n",
       "3  {'retweet_count': 0, 'reply_count': 0, 'like_c...  ['1578819402648424449']   \n",
       "4  {'retweet_count': 0, 'reply_count': 1, 'like_c...  ['1578819401281077248']   \n",
       "\n",
       "                    id                created_at              source  \\\n",
       "0  1578819408352665601  2022-10-08T18:47:34.000Z  Twitter for iPhone   \n",
       "1  1578819405168857088  2022-10-08T18:47:33.000Z  Twitter for iPhone   \n",
       "2  1578819402732306432  2022-10-08T18:47:33.000Z  Twitter for iPhone   \n",
       "3  1578819402648424449  2022-10-08T18:47:33.000Z     Twitter Web App   \n",
       "4  1578819401281077248  2022-10-08T18:47:32.000Z  Twitter for iPhone   \n",
       "\n",
       "             author_id lang  \\\n",
       "0  1108818128836927488   en   \n",
       "1           4835001889   en   \n",
       "2  1377094240824594435   en   \n",
       "3  1557261092556271616   en   \n",
       "4   898589809370816514   en   \n",
       "\n",
       "                                                text  \\\n",
       "0  I’m tired\\nPissed off\\nI’m old\\nI work with fu...   \n",
       "1  RT @hswapnil: Age alone should not be a criter...   \n",
       "2          Target got this Early Black Friday Sale 🥴   \n",
       "3  $qnt Top analyst price target for next week;:~...   \n",
       "4              NO I MEANT TO GO TO TARGET AFTWR WORK   \n",
       "\n",
       "                                        cleaned_text  \\\n",
       "0  tiredPissed offIm oldI work with fucking idiot...   \n",
       "1  hswapnil alone should criterion kidney transpl...   \n",
       "2                Target this Early Black Friday Sale   \n",
       "3   analyst price target next weekhttpstcozbC9XFp5Ge   \n",
       "4                            MEANT TARGET AFTWR WORK   \n",
       "\n",
       "                                     Tweet_tokenized  \n",
       "0  ['tiredpissed', 'offim', 'oldi', 'work', 'with...  \n",
       "1  ['hswapnil', 'alone', 'should', 'criterion', '...  \n",
       "2  ['target', 'this', 'early', 'black', 'friday',...  \n",
       "3  ['analyst', 'price', 'target', 'next', 'weekht...  \n",
       "4               ['meant', 'target', 'aftwr', 'work']  "
      ]
     },
     "execution_count": 27,
     "metadata": {},
     "output_type": "execute_result"
    }
   ],
   "source": [
    "df_concat=pd.concat([df_target, df_amazon,df_Bestbuy,df_eBay,df_walmart])\n",
    "df_concat=df_concat.reset_index(drop=True)\n",
    "df_use=df_concat.loc[df_concat['source'].isin(['Twitter for iPhone','Twitter for Android','Twitter Web App','Media uploads app','The Bargain Hunter','WordPress.com'])]\n",
    "df_use.head()"
   ]
  },
  {
   "cell_type": "markdown",
   "metadata": {},
   "source": [
    "Eliminate the useless columns"
   ]
  },
  {
   "cell_type": "code",
   "execution_count": 29,
   "metadata": {},
   "outputs": [
    {
     "data": {
      "text/html": [
       "<div>\n",
       "<style scoped>\n",
       "    .dataframe tbody tr th:only-of-type {\n",
       "        vertical-align: middle;\n",
       "    }\n",
       "\n",
       "    .dataframe tbody tr th {\n",
       "        vertical-align: top;\n",
       "    }\n",
       "\n",
       "    .dataframe thead th {\n",
       "        text-align: right;\n",
       "    }\n",
       "</style>\n",
       "<table border=\"1\" class=\"dataframe\">\n",
       "  <thead>\n",
       "    <tr style=\"text-align: right;\">\n",
       "      <th></th>\n",
       "      <th>source</th>\n",
       "      <th>lang</th>\n",
       "      <th>Tweet_tokenized</th>\n",
       "    </tr>\n",
       "  </thead>\n",
       "  <tbody>\n",
       "    <tr>\n",
       "      <th>0</th>\n",
       "      <td>Twitter for iPhone</td>\n",
       "      <td>en</td>\n",
       "      <td>['tiredpissed', 'offim', 'oldi', 'work', 'with...</td>\n",
       "    </tr>\n",
       "    <tr>\n",
       "      <th>1</th>\n",
       "      <td>Twitter for iPhone</td>\n",
       "      <td>en</td>\n",
       "      <td>['hswapnil', 'alone', 'should', 'criterion', '...</td>\n",
       "    </tr>\n",
       "    <tr>\n",
       "      <th>2</th>\n",
       "      <td>Twitter for iPhone</td>\n",
       "      <td>en</td>\n",
       "      <td>['target', 'this', 'early', 'black', 'friday',...</td>\n",
       "    </tr>\n",
       "    <tr>\n",
       "      <th>3</th>\n",
       "      <td>Twitter Web App</td>\n",
       "      <td>en</td>\n",
       "      <td>['analyst', 'price', 'target', 'next', 'weekht...</td>\n",
       "    </tr>\n",
       "    <tr>\n",
       "      <th>4</th>\n",
       "      <td>Twitter for iPhone</td>\n",
       "      <td>en</td>\n",
       "      <td>['meant', 'target', 'aftwr', 'work']</td>\n",
       "    </tr>\n",
       "    <tr>\n",
       "      <th>...</th>\n",
       "      <td>...</td>\n",
       "      <td>...</td>\n",
       "      <td>...</td>\n",
       "    </tr>\n",
       "    <tr>\n",
       "      <th>486</th>\n",
       "      <td>Twitter for iPhone</td>\n",
       "      <td>en</td>\n",
       "      <td>['mikesgi62717027', '6imothy', 'tompelissero',...</td>\n",
       "    </tr>\n",
       "    <tr>\n",
       "      <th>487</th>\n",
       "      <td>Twitter for Android</td>\n",
       "      <td>en</td>\n",
       "      <td>['tacoexistential', 'sound', 'made', 'walmart'...</td>\n",
       "    </tr>\n",
       "    <tr>\n",
       "      <th>488</th>\n",
       "      <td>Twitter for iPhone</td>\n",
       "      <td>fr</td>\n",
       "      <td>['walmart', 'walmartworld', 'walmartinc', 'wal...</td>\n",
       "    </tr>\n",
       "    <tr>\n",
       "      <th>489</th>\n",
       "      <td>Twitter for iPhone</td>\n",
       "      <td>en</td>\n",
       "      <td>['sourcigarettez', 'dont', 'know', 'each', 'ot...</td>\n",
       "    </tr>\n",
       "    <tr>\n",
       "      <th>490</th>\n",
       "      <td>Twitter for Android</td>\n",
       "      <td>en</td>\n",
       "      <td>['earllandix', 'sista', 'goes', 'walmart', 'no...</td>\n",
       "    </tr>\n",
       "  </tbody>\n",
       "</table>\n",
       "<p>405 rows × 3 columns</p>\n",
       "</div>"
      ],
      "text/plain": [
       "                  source lang  \\\n",
       "0     Twitter for iPhone   en   \n",
       "1     Twitter for iPhone   en   \n",
       "2     Twitter for iPhone   en   \n",
       "3        Twitter Web App   en   \n",
       "4     Twitter for iPhone   en   \n",
       "..                   ...  ...   \n",
       "486   Twitter for iPhone   en   \n",
       "487  Twitter for Android   en   \n",
       "488   Twitter for iPhone   fr   \n",
       "489   Twitter for iPhone   en   \n",
       "490  Twitter for Android   en   \n",
       "\n",
       "                                       Tweet_tokenized  \n",
       "0    ['tiredpissed', 'offim', 'oldi', 'work', 'with...  \n",
       "1    ['hswapnil', 'alone', 'should', 'criterion', '...  \n",
       "2    ['target', 'this', 'early', 'black', 'friday',...  \n",
       "3    ['analyst', 'price', 'target', 'next', 'weekht...  \n",
       "4                 ['meant', 'target', 'aftwr', 'work']  \n",
       "..                                                 ...  \n",
       "486  ['mikesgi62717027', '6imothy', 'tompelissero',...  \n",
       "487  ['tacoexistential', 'sound', 'made', 'walmart'...  \n",
       "488  ['walmart', 'walmartworld', 'walmartinc', 'wal...  \n",
       "489  ['sourcigarettez', 'dont', 'know', 'each', 'ot...  \n",
       "490  ['earllandix', 'sista', 'goes', 'walmart', 'no...  \n",
       "\n",
       "[405 rows x 3 columns]"
      ]
     },
     "execution_count": 29,
     "metadata": {},
     "output_type": "execute_result"
    }
   ],
   "source": [
    "df_use_copy=df_use.drop(['public_metrics','edit_history_tweet_ids','id','created_at','author_id','text','cleaned_text'],axis=1)\n",
    "df_use_copy"
   ]
  },
  {
   "cell_type": "code",
   "execution_count": 30,
   "metadata": {},
   "outputs": [
    {
     "data": {
      "text/html": [
       "<div>\n",
       "<style scoped>\n",
       "    .dataframe tbody tr th:only-of-type {\n",
       "        vertical-align: middle;\n",
       "    }\n",
       "\n",
       "    .dataframe tbody tr th {\n",
       "        vertical-align: top;\n",
       "    }\n",
       "\n",
       "    .dataframe thead th {\n",
       "        text-align: right;\n",
       "    }\n",
       "</style>\n",
       "<table border=\"1\" class=\"dataframe\">\n",
       "  <thead>\n",
       "    <tr style=\"text-align: right;\">\n",
       "      <th></th>\n",
       "      <th>source</th>\n",
       "      <th>lang</th>\n",
       "      <th>Tweet_tokenized</th>\n",
       "    </tr>\n",
       "  </thead>\n",
       "  <tbody>\n",
       "    <tr>\n",
       "      <th>0</th>\n",
       "      <td>Twitter for iPhone</td>\n",
       "      <td>en</td>\n",
       "      <td>tiredpissed offim oldi work with fucking idiot...</td>\n",
       "    </tr>\n",
       "    <tr>\n",
       "      <th>1</th>\n",
       "      <td>Twitter for iPhone</td>\n",
       "      <td>en</td>\n",
       "      <td>hswapnil alone should criterion kidney transpl...</td>\n",
       "    </tr>\n",
       "    <tr>\n",
       "      <th>2</th>\n",
       "      <td>Twitter for iPhone</td>\n",
       "      <td>en</td>\n",
       "      <td>target this early black friday sale</td>\n",
       "    </tr>\n",
       "    <tr>\n",
       "      <th>3</th>\n",
       "      <td>Twitter Web App</td>\n",
       "      <td>en</td>\n",
       "      <td>analyst price target next weekhttpstcozbc9xfp5ge</td>\n",
       "    </tr>\n",
       "    <tr>\n",
       "      <th>4</th>\n",
       "      <td>Twitter for iPhone</td>\n",
       "      <td>en</td>\n",
       "      <td>meant target aftwr work</td>\n",
       "    </tr>\n",
       "  </tbody>\n",
       "</table>\n",
       "</div>"
      ],
      "text/plain": [
       "               source lang                                    Tweet_tokenized\n",
       "0  Twitter for iPhone   en  tiredpissed offim oldi work with fucking idiot...\n",
       "1  Twitter for iPhone   en  hswapnil alone should criterion kidney transpl...\n",
       "2  Twitter for iPhone   en                target this early black friday sale\n",
       "3     Twitter Web App   en   analyst price target next weekhttpstcozbc9xfp5ge\n",
       "4  Twitter for iPhone   en                            meant target aftwr work"
      ]
     },
     "execution_count": 30,
     "metadata": {},
     "output_type": "execute_result"
    }
   ],
   "source": [
    "tweet=[]\n",
    "for i in df_use_copy['Tweet_tokenized']:\n",
    "  n=i.replace(\"[\",\"\").replace(\"]\",\"\").replace(\"'\",\"\").replace(\",\",\"\")\n",
    "  tweet.append(n)\n",
    "\n",
    "df_use_copy['Tweet_tokenized']=tweet\n",
    "df_use_copy.head()"
   ]
  },
  {
   "cell_type": "code",
   "execution_count": 31,
   "metadata": {},
   "outputs": [
    {
     "data": {
      "text/plain": [
       "array(['Twitter for iPhone', 'Twitter Web App', 'Twitter for Android',\n",
       "       'WordPress.com', 'The Bargain Hunter', 'Media uploads app'],\n",
       "      dtype=object)"
      ]
     },
     "execution_count": 31,
     "metadata": {},
     "output_type": "execute_result"
    }
   ],
   "source": [
    "df_use_copy['source'].unique()"
   ]
  },
  {
   "cell_type": "markdown",
   "metadata": {},
   "source": [
    "Using Label Encoder to convert categorical labels to numerical values"
   ]
  },
  {
   "cell_type": "code",
   "execution_count": 33,
   "metadata": {},
   "outputs": [
    {
     "data": {
      "text/html": [
       "<div>\n",
       "<style scoped>\n",
       "    .dataframe tbody tr th:only-of-type {\n",
       "        vertical-align: middle;\n",
       "    }\n",
       "\n",
       "    .dataframe tbody tr th {\n",
       "        vertical-align: top;\n",
       "    }\n",
       "\n",
       "    .dataframe thead th {\n",
       "        text-align: right;\n",
       "    }\n",
       "</style>\n",
       "<table border=\"1\" class=\"dataframe\">\n",
       "  <thead>\n",
       "    <tr style=\"text-align: right;\">\n",
       "      <th></th>\n",
       "      <th>source</th>\n",
       "      <th>lang</th>\n",
       "      <th>Tweet_tokenized</th>\n",
       "      <th>source_cat</th>\n",
       "    </tr>\n",
       "  </thead>\n",
       "  <tbody>\n",
       "    <tr>\n",
       "      <th>0</th>\n",
       "      <td>Twitter for iPhone</td>\n",
       "      <td>en</td>\n",
       "      <td>tiredpissed offim oldi work with fucking idiot...</td>\n",
       "      <td>4</td>\n",
       "    </tr>\n",
       "    <tr>\n",
       "      <th>1</th>\n",
       "      <td>Twitter for iPhone</td>\n",
       "      <td>en</td>\n",
       "      <td>hswapnil alone should criterion kidney transpl...</td>\n",
       "      <td>4</td>\n",
       "    </tr>\n",
       "    <tr>\n",
       "      <th>2</th>\n",
       "      <td>Twitter for iPhone</td>\n",
       "      <td>en</td>\n",
       "      <td>target this early black friday sale</td>\n",
       "      <td>4</td>\n",
       "    </tr>\n",
       "    <tr>\n",
       "      <th>3</th>\n",
       "      <td>Twitter Web App</td>\n",
       "      <td>en</td>\n",
       "      <td>analyst price target next weekhttpstcozbc9xfp5ge</td>\n",
       "      <td>2</td>\n",
       "    </tr>\n",
       "    <tr>\n",
       "      <th>4</th>\n",
       "      <td>Twitter for iPhone</td>\n",
       "      <td>en</td>\n",
       "      <td>meant target aftwr work</td>\n",
       "      <td>4</td>\n",
       "    </tr>\n",
       "    <tr>\n",
       "      <th>...</th>\n",
       "      <td>...</td>\n",
       "      <td>...</td>\n",
       "      <td>...</td>\n",
       "      <td>...</td>\n",
       "    </tr>\n",
       "    <tr>\n",
       "      <th>486</th>\n",
       "      <td>Twitter for iPhone</td>\n",
       "      <td>en</td>\n",
       "      <td>mikesgi62717027 6imothy tompelissero they thou...</td>\n",
       "      <td>4</td>\n",
       "    </tr>\n",
       "    <tr>\n",
       "      <th>487</th>\n",
       "      <td>Twitter for Android</td>\n",
       "      <td>en</td>\n",
       "      <td>tacoexistential sound made walmart httpstcoiye...</td>\n",
       "      <td>3</td>\n",
       "    </tr>\n",
       "    <tr>\n",
       "      <th>488</th>\n",
       "      <td>Twitter for iPhone</td>\n",
       "      <td>fr</td>\n",
       "      <td>walmart walmartworld walmartinc walmarttech wa...</td>\n",
       "      <td>4</td>\n",
       "    </tr>\n",
       "    <tr>\n",
       "      <th>489</th>\n",
       "      <td>Twitter for iPhone</td>\n",
       "      <td>en</td>\n",
       "      <td>sourcigarettez dont know each other please kno...</td>\n",
       "      <td>4</td>\n",
       "    </tr>\n",
       "    <tr>\n",
       "      <th>490</th>\n",
       "      <td>Twitter for Android</td>\n",
       "      <td>en</td>\n",
       "      <td>earllandix sista goes walmart notices shes bei...</td>\n",
       "      <td>3</td>\n",
       "    </tr>\n",
       "  </tbody>\n",
       "</table>\n",
       "<p>405 rows × 4 columns</p>\n",
       "</div>"
      ],
      "text/plain": [
       "                  source lang  \\\n",
       "0     Twitter for iPhone   en   \n",
       "1     Twitter for iPhone   en   \n",
       "2     Twitter for iPhone   en   \n",
       "3        Twitter Web App   en   \n",
       "4     Twitter for iPhone   en   \n",
       "..                   ...  ...   \n",
       "486   Twitter for iPhone   en   \n",
       "487  Twitter for Android   en   \n",
       "488   Twitter for iPhone   fr   \n",
       "489   Twitter for iPhone   en   \n",
       "490  Twitter for Android   en   \n",
       "\n",
       "                                       Tweet_tokenized  source_cat  \n",
       "0    tiredpissed offim oldi work with fucking idiot...           4  \n",
       "1    hswapnil alone should criterion kidney transpl...           4  \n",
       "2                  target this early black friday sale           4  \n",
       "3     analyst price target next weekhttpstcozbc9xfp5ge           2  \n",
       "4                              meant target aftwr work           4  \n",
       "..                                                 ...         ...  \n",
       "486  mikesgi62717027 6imothy tompelissero they thou...           4  \n",
       "487  tacoexistential sound made walmart httpstcoiye...           3  \n",
       "488  walmart walmartworld walmartinc walmarttech wa...           4  \n",
       "489  sourcigarettez dont know each other please kno...           4  \n",
       "490  earllandix sista goes walmart notices shes bei...           3  \n",
       "\n",
       "[405 rows x 4 columns]"
      ]
     },
     "execution_count": 33,
     "metadata": {},
     "output_type": "execute_result"
    }
   ],
   "source": [
    "from sklearn.preprocessing import LabelEncoder\n",
    "labelencoder = LabelEncoder()\n",
    "df_use_copy['source_cat'] = labelencoder.fit_transform(df_use_copy['source'])\n",
    "df_use_copy"
   ]
  },
  {
   "cell_type": "code",
   "execution_count": 34,
   "metadata": {},
   "outputs": [
    {
     "data": {
      "text/plain": [
       "array(['Media uploads app', 'The Bargain Hunter', 'Twitter Web App',\n",
       "       'Twitter for Android', 'Twitter for iPhone', 'WordPress.com'],\n",
       "      dtype=object)"
      ]
     },
     "execution_count": 34,
     "metadata": {},
     "output_type": "execute_result"
    }
   ],
   "source": [
    "labelencoder.classes_"
   ]
  },
  {
   "cell_type": "markdown",
   "metadata": {},
   "source": [
    "Split Dataset into Train and Test sets"
   ]
  },
  {
   "cell_type": "code",
   "execution_count": 35,
   "metadata": {},
   "outputs": [
    {
     "name": "stdout",
     "output_type": "stream",
     "text": [
      "Training dataset:  364\n",
      "Test dataset:  41\n"
     ]
    }
   ],
   "source": [
    "from sklearn.model_selection import train_test_split\n",
    "\n",
    "X_train, X_test, y_train, y_test = train_test_split(\n",
    "    df_use_copy['Tweet_tokenized'], \n",
    "    df_use_copy['source_cat'], \n",
    "    random_state = 1,test_size=0.1\n",
    ")\n",
    "\n",
    "print(\"Training dataset: \", X_train.shape[0])\n",
    "print(\"Test dataset: \", X_test.shape[0])"
   ]
  },
  {
   "cell_type": "markdown",
   "metadata": {},
   "source": [
    "Using Count Vectorizer to convert text data into numeric data"
   ]
  },
  {
   "cell_type": "code",
   "execution_count": 36,
   "metadata": {},
   "outputs": [],
   "source": [
    "from sklearn.feature_extraction.text import CountVectorizer\n",
    "\n",
    "count_vector = CountVectorizer(stop_words = 'english')\n",
    "training_data = count_vector.fit_transform(X_train)\n",
    "testing_data = count_vector.transform(X_test)"
   ]
  },
  {
   "cell_type": "markdown",
   "metadata": {},
   "source": [
    "Multinomial Naive Bayes classifier Implementation"
   ]
  },
  {
   "cell_type": "code",
   "execution_count": 37,
   "metadata": {},
   "outputs": [
    {
     "data": {
      "text/plain": [
       "array([4, 4, 4, 4, 4, 4, 5, 3, 4, 0, 5, 4, 1, 3, 4, 1, 4, 4, 4, 4, 4, 4,\n",
       "       3, 0, 4, 4, 4, 4, 4, 4, 4, 4, 4, 4, 4, 4, 0, 0, 0, 1, 4])"
      ]
     },
     "execution_count": 37,
     "metadata": {},
     "output_type": "execute_result"
    }
   ],
   "source": [
    "from sklearn.naive_bayes import MultinomialNB\n",
    "\n",
    "naive_bayes = MultinomialNB()\n",
    "naive_bayes.fit(training_data, y_train)\n",
    "predictions = naive_bayes.predict(testing_data)\n",
    "predictions"
   ]
  },
  {
   "cell_type": "markdown",
   "metadata": {},
   "source": [
    "Accuracy metrics for Naive Bayes"
   ]
  },
  {
   "cell_type": "code",
   "execution_count": 38,
   "metadata": {},
   "outputs": [
    {
     "name": "stdout",
     "output_type": "stream",
     "text": [
      "Accuracy score:  0.5853658536585366\n",
      "Recall score:  0.5853658536585366\n",
      "Precision score:  0.4759001161440186\n",
      "F1 score:  0.5153087701089777\n"
     ]
    },
    {
     "name": "stderr",
     "output_type": "stream",
     "text": [
      "c:\\Users\\84160\\AppData\\Local\\Programs\\Python\\Python39\\lib\\site-packages\\sklearn\\metrics\\_classification.py:1334: UndefinedMetricWarning: Precision is ill-defined and being set to 0.0 in labels with no predicted samples. Use `zero_division` parameter to control this behavior.\n",
      "  _warn_prf(average, modifier, msg_start, len(result))\n"
     ]
    }
   ],
   "source": [
    "from sklearn.metrics import accuracy_score, recall_score, precision_score, f1_score\n",
    "\n",
    "print(\"Accuracy score: \", accuracy_score(y_test, predictions))\n",
    "print(\"Recall score: \", recall_score(y_test, predictions, average = 'weighted'))\n",
    "print(\"Precision score: \", precision_score(y_test, predictions, average = 'weighted'))\n",
    "print(\"F1 score: \", f1_score(y_test, predictions, average = 'weighted'))"
   ]
  },
  {
   "cell_type": "markdown",
   "metadata": {},
   "source": [
    "Confusion Matrix to check accuracy of training vs predicted labels"
   ]
  },
  {
   "cell_type": "code",
   "execution_count": 40,
   "metadata": {},
   "outputs": [
    {
     "data": {
      "image/png": "[encoded data removed]",
      "text/plain": [
       "<Figure size 720x504 with 2 Axes>"
      ]
     },
     "metadata": {
      "needs_background": "light"
     },
     "output_type": "display_data"
    }
   ],
   "source": [
    "from sklearn.metrics import confusion_matrix\n",
    "cm=confusion_matrix(y_test, predictions)\n",
    "\n",
    "import seaborn as sn\n",
    "import matplotlib.pyplot as plt\n",
    "\n",
    "df_cm = pd.DataFrame(cm, range(6), range(6))\n",
    "plt.figure(figsize=(10,7))\n",
    "sn.set(font_scale=1.4) # for label size\n",
    "sn.heatmap(df_cm, annot=True, annot_kws={\"size\": 16}) # font size\n",
    "\n",
    "plt.show()"
   ]
  },
  {
   "cell_type": "code",
   "execution_count": 88,
   "metadata": {},
   "outputs": [
    {
     "data": {
      "text/html": [
       "<div>\n",
       "<style scoped>\n",
       "    .dataframe tbody tr th:only-of-type {\n",
       "        vertical-align: middle;\n",
       "    }\n",
       "\n",
       "    .dataframe tbody tr th {\n",
       "        vertical-align: top;\n",
       "    }\n",
       "\n",
       "    .dataframe thead th {\n",
       "        text-align: right;\n",
       "    }\n",
       "</style>\n",
       "<table border=\"1\" class=\"dataframe\">\n",
       "  <thead>\n",
       "    <tr style=\"text-align: right;\">\n",
       "      <th></th>\n",
       "      <th>source</th>\n",
       "      <th>lang</th>\n",
       "      <th>Tweet_tokenized</th>\n",
       "      <th>source_cat</th>\n",
       "    </tr>\n",
       "  </thead>\n",
       "  <tbody>\n",
       "    <tr>\n",
       "      <th>123</th>\n",
       "      <td>WordPress.com</td>\n",
       "      <td>ja</td>\n",
       "      <td>amazon 720ml 5500 httpstco4zpdonugrj</td>\n",
       "      <td>5</td>\n",
       "    </tr>\n",
       "    <tr>\n",
       "      <th>201</th>\n",
       "      <td>WordPress.com</td>\n",
       "      <td>en</td>\n",
       "      <td>does bestbuy sell apple computercharger httpst...</td>\n",
       "      <td>5</td>\n",
       "    </tr>\n",
       "    <tr>\n",
       "      <th>293</th>\n",
       "      <td>WordPress.com</td>\n",
       "      <td>en</td>\n",
       "      <td>early 20th silver plate piece regis plate birm...</td>\n",
       "      <td>5</td>\n",
       "    </tr>\n",
       "    <tr>\n",
       "      <th>294</th>\n",
       "      <td>WordPress.com</td>\n",
       "      <td>en</td>\n",
       "      <td>weemsampplath parallel ruler with protractor s...</td>\n",
       "      <td>5</td>\n",
       "    </tr>\n",
       "    <tr>\n",
       "      <th>295</th>\n",
       "      <td>WordPress.com</td>\n",
       "      <td>en</td>\n",
       "      <td>antique 19th folk miniature pillow primitive a...</td>\n",
       "      <td>5</td>\n",
       "    </tr>\n",
       "  </tbody>\n",
       "</table>\n",
       "</div>"
      ],
      "text/plain": [
       "            source lang                                    Tweet_tokenized  \\\n",
       "123  WordPress.com   ja               amazon 720ml 5500 httpstco4zpdonugrj   \n",
       "201  WordPress.com   en  does bestbuy sell apple computercharger httpst...   \n",
       "293  WordPress.com   en  early 20th silver plate piece regis plate birm...   \n",
       "294  WordPress.com   en  weemsampplath parallel ruler with protractor s...   \n",
       "295  WordPress.com   en  antique 19th folk miniature pillow primitive a...   \n",
       "\n",
       "     source_cat  \n",
       "123           5  \n",
       "201           5  \n",
       "293           5  \n",
       "294           5  \n",
       "295           5  "
      ]
     },
     "execution_count": 88,
     "metadata": {},
     "output_type": "execute_result"
    }
   ],
   "source": [
    "# use to check the corresponding source for each number of cat\n",
    "df_use_copy[df_use_copy['source_cat']==5].head()"
   ]
  },
  {
   "cell_type": "markdown",
   "metadata": {},
   "source": [
    "Normalizing the confusion matrix value"
   ]
  },
  {
   "cell_type": "code",
   "execution_count": 62,
   "metadata": {},
   "outputs": [
    {
     "data": {
      "image/png": "[encoded data removed]",
      "text/plain": [
       "<Figure size 720x720 with 2 Axes>"
      ]
     },
     "metadata": {},
     "output_type": "display_data"
    }
   ],
   "source": [
    "cmn = cm.astype('float') / cm.sum(axis=1)[:, np.newaxis]\n",
    "plt.figure(figsize=(10,10))\n",
    "ax= plt.subplot()\n",
    "sn.set(font_scale=1.4) # for label size\n",
    "sn.heatmap(cmn, annot=True, annot_kws={\"size\": 16}) # font size\n",
    "ax.set_xlabel('Predicted labels')\n",
    "ax.set_ylabel('True labels')\n",
    "ax.set_title('Confusion Matrix- Naive Bayes')\n",
    "ax.xaxis.set_ticklabels(['Media uploads app', 'The Bargain Hunter','Twitter Web App','Twitter for Android','Twitter for iPhone','WordPress.com'],rotation=270)\n",
    "ax.yaxis.set_ticklabels(['Media uploads app', 'The Bargain Hunter','Twitter Web App','Twitter for Android','Twitter for iPhone','WordPress.com'],rotation=0)\n",
    "plt.show()"
   ]
  },
  {
   "cell_type": "markdown",
   "metadata": {},
   "source": [
    "Checking and Conclusion "
   ]
  },
  {
   "cell_type": "code",
   "execution_count": 63,
   "metadata": {},
   "outputs": [
    {
     "data": {
      "text/plain": [
       "array([4, 4, 4, 4, 4, 4, 2, 3, 4, 0, 5, 4, 1, 3, 4, 1, 4, 4, 4, 4, 4, 4,\n",
       "       3, 0, 4, 4, 3, 4, 4, 4, 4, 4, 4, 4, 4, 4, 0, 0, 0, 1, 4])"
      ]
     },
     "execution_count": 63,
     "metadata": {},
     "output_type": "execute_result"
    }
   ],
   "source": [
    "from sklearn.feature_extraction.text import TfidfVectorizer\n",
    "\n",
    "tf_vector = TfidfVectorizer(stop_words = 'english')\n",
    "training_data1 = tf_vector.fit_transform(X_train)\n",
    "testing_data1 = tf_vector.transform(X_test)\n",
    "\n",
    "from sklearn.naive_bayes import MultinomialNB\n",
    "\n",
    "naive_bayes1 = MultinomialNB()\n",
    "naive_bayes1.fit(training_data1, y_train)\n",
    "\n",
    "predictions1 = naive_bayes.predict(testing_data1)\n",
    "predictions1"
   ]
  },
  {
   "cell_type": "code",
   "execution_count": 64,
   "metadata": {},
   "outputs": [
    {
     "name": "stdout",
     "output_type": "stream",
     "text": [
      "Accuracy score:  0.5365853658536586\n",
      "Recall score:  0.5365853658536586\n",
      "Precision score:  0.4679313459801264\n",
      "F1 score:  0.4796394485683987\n"
     ]
    }
   ],
   "source": [
    "print(\"Accuracy score: \", accuracy_score(y_test, predictions1))\n",
    "print(\"Recall score: \", recall_score(y_test, predictions1, average = 'weighted'))\n",
    "print(\"Precision score: \", precision_score(y_test, predictions1, average = 'weighted'))\n",
    "print(\"F1 score: \", f1_score(y_test, predictions1, average = 'weighted'))"
   ]
  },
  {
   "cell_type": "code",
   "execution_count": null,
   "metadata": {},
   "outputs": [],
   "source": [
    "# The from the test result, we found that the F1 score is quite low."
   ]
  },
  {
   "cell_type": "markdown",
   "metadata": {},
   "source": [
    "Since the F1 score of test set is quite low, I try to use another factors and ways to test the data"
   ]
  },
  {
   "cell_type": "code",
   "execution_count": null,
   "metadata": {},
   "outputs": [],
   "source": [
    "########### Second one ###############"
   ]
  },
  {
   "cell_type": "markdown",
   "metadata": {},
   "source": [
    "Combining dataset using columns"
   ]
  },
  {
   "cell_type": "code",
   "execution_count": null,
   "metadata": {},
   "outputs": [],
   "source": [
    "# create new column platform to remember which platform it is \n",
    "df_amazon['platform']=['amazon']*(len(df_amazon))\n",
    "df_walmart['platform']=['walmart']*(len(df_walmart))\n",
    "df_target['platform']=['target']*(len(df_target))\n",
    "df_eBay['platform']=['eBay']*(len(df_eBay))\n",
    "df_Bestbuy['platform']=['Bestbuy']*(len(df_Bestbuy))"
   ]
  },
  {
   "cell_type": "code",
   "execution_count": 73,
   "metadata": {},
   "outputs": [
    {
     "data": {
      "text/html": [
       "<div>\n",
       "<style scoped>\n",
       "    .dataframe tbody tr th:only-of-type {\n",
       "        vertical-align: middle;\n",
       "    }\n",
       "\n",
       "    .dataframe tbody tr th {\n",
       "        vertical-align: top;\n",
       "    }\n",
       "\n",
       "    .dataframe thead th {\n",
       "        text-align: right;\n",
       "    }\n",
       "</style>\n",
       "<table border=\"1\" class=\"dataframe\">\n",
       "  <thead>\n",
       "    <tr style=\"text-align: right;\">\n",
       "      <th></th>\n",
       "      <th>source</th>\n",
       "      <th>lang</th>\n",
       "      <th>edit_history_tweet_ids</th>\n",
       "      <th>created_at</th>\n",
       "      <th>text</th>\n",
       "      <th>id</th>\n",
       "      <th>author_id</th>\n",
       "      <th>public_metrics</th>\n",
       "      <th>cleaned_text</th>\n",
       "      <th>Tweet_tokenized</th>\n",
       "      <th>platform</th>\n",
       "    </tr>\n",
       "  </thead>\n",
       "  <tbody>\n",
       "    <tr>\n",
       "      <th>0</th>\n",
       "      <td>Twitter for Android</td>\n",
       "      <td>en</td>\n",
       "      <td>['1578844547748020224']</td>\n",
       "      <td>2022-10-08T20:27:28.000Z</td>\n",
       "      <td>RT @TalbertSwan: The Black delegation will tra...</td>\n",
       "      <td>1578844547748020224</td>\n",
       "      <td>46243705</td>\n",
       "      <td>{'retweet_count': 3597, 'reply_count': 0, 'lik...</td>\n",
       "      <td>TalbertSwan Black delegation will trade Kanye ...</td>\n",
       "      <td>['talbertswan', 'black', 'delegation', 'will',...</td>\n",
       "      <td>walmart</td>\n",
       "    </tr>\n",
       "    <tr>\n",
       "      <th>1</th>\n",
       "      <td>Twitter for Android</td>\n",
       "      <td>en</td>\n",
       "      <td>['1578844547236646913']</td>\n",
       "      <td>2022-10-08T20:27:28.000Z</td>\n",
       "      <td>I wanna be old and grey and still get random k...</td>\n",
       "      <td>1578844547236646913</td>\n",
       "      <td>1311130506243854338</td>\n",
       "      <td>{'retweet_count': 0, 'reply_count': 0, 'like_c...</td>\n",
       "      <td>wanna grey still random kisses line Walmart</td>\n",
       "      <td>['wanna', 'grey', 'still', 'random', 'kisses',...</td>\n",
       "      <td>walmart</td>\n",
       "    </tr>\n",
       "    <tr>\n",
       "      <th>2</th>\n",
       "      <td>Twitter for iPhone</td>\n",
       "      <td>en</td>\n",
       "      <td>['1578844542983249923']</td>\n",
       "      <td>2022-10-08T20:27:27.000Z</td>\n",
       "      <td>Don’t ask me why, but Walmart = wear a mask. I...</td>\n",
       "      <td>1578844542983249923</td>\n",
       "      <td>906190737829576704</td>\n",
       "      <td>{'retweet_count': 0, 'reply_count': 0, 'like_c...</td>\n",
       "      <td>Dont Walmart wear mask rules</td>\n",
       "      <td>['dont', 'walmart', 'wear', 'mask', 'rules']</td>\n",
       "      <td>walmart</td>\n",
       "    </tr>\n",
       "    <tr>\n",
       "      <th>3</th>\n",
       "      <td>Twitter for iPhone</td>\n",
       "      <td>en</td>\n",
       "      <td>['1578844536847335425']</td>\n",
       "      <td>2022-10-08T20:27:25.000Z</td>\n",
       "      <td>@NedJeffers You’re most welcome. \\n\\nBtw if yo...</td>\n",
       "      <td>1578844536847335425</td>\n",
       "      <td>1416609128</td>\n",
       "      <td>{'retweet_count': 0, 'reply_count': 0, 'like_c...</td>\n",
       "      <td>NedJeffers Youre most welcome have trouble hol...</td>\n",
       "      <td>['nedjeffers', 'youre', 'most', 'welcome', 'ha...</td>\n",
       "      <td>walmart</td>\n",
       "    </tr>\n",
       "    <tr>\n",
       "      <th>4</th>\n",
       "      <td>Twitter Web App</td>\n",
       "      <td>en</td>\n",
       "      <td>['1578844499869982720']</td>\n",
       "      <td>2022-10-08T20:27:16.000Z</td>\n",
       "      <td>RT @OfficerPorkChop: @LauraLynn209 Meanwhile h...</td>\n",
       "      <td>1578844499869982720</td>\n",
       "      <td>1449191119867326464</td>\n",
       "      <td>{'retweet_count': 1, 'reply_count': 0, 'like_c...</td>\n",
       "      <td>OfficerPorkChop LauraLynn209 Meanwhile walking...</td>\n",
       "      <td>['officerporkchop', 'lauralynn209', 'meanwhile...</td>\n",
       "      <td>walmart</td>\n",
       "    </tr>\n",
       "  </tbody>\n",
       "</table>\n",
       "</div>"
      ],
      "text/plain": [
       "                source lang   edit_history_tweet_ids  \\\n",
       "0  Twitter for Android   en  ['1578844547748020224']   \n",
       "1  Twitter for Android   en  ['1578844547236646913']   \n",
       "2   Twitter for iPhone   en  ['1578844542983249923']   \n",
       "3   Twitter for iPhone   en  ['1578844536847335425']   \n",
       "4      Twitter Web App   en  ['1578844499869982720']   \n",
       "\n",
       "                 created_at  \\\n",
       "0  2022-10-08T20:27:28.000Z   \n",
       "1  2022-10-08T20:27:28.000Z   \n",
       "2  2022-10-08T20:27:27.000Z   \n",
       "3  2022-10-08T20:27:25.000Z   \n",
       "4  2022-10-08T20:27:16.000Z   \n",
       "\n",
       "                                                text                   id  \\\n",
       "0  RT @TalbertSwan: The Black delegation will tra...  1578844547748020224   \n",
       "1  I wanna be old and grey and still get random k...  1578844547236646913   \n",
       "2  Don’t ask me why, but Walmart = wear a mask. I...  1578844542983249923   \n",
       "3  @NedJeffers You’re most welcome. \\n\\nBtw if yo...  1578844536847335425   \n",
       "4  RT @OfficerPorkChop: @LauraLynn209 Meanwhile h...  1578844499869982720   \n",
       "\n",
       "             author_id                                     public_metrics  \\\n",
       "0             46243705  {'retweet_count': 3597, 'reply_count': 0, 'lik...   \n",
       "1  1311130506243854338  {'retweet_count': 0, 'reply_count': 0, 'like_c...   \n",
       "2   906190737829576704  {'retweet_count': 0, 'reply_count': 0, 'like_c...   \n",
       "3           1416609128  {'retweet_count': 0, 'reply_count': 0, 'like_c...   \n",
       "4  1449191119867326464  {'retweet_count': 1, 'reply_count': 0, 'like_c...   \n",
       "\n",
       "                                        cleaned_text  \\\n",
       "0  TalbertSwan Black delegation will trade Kanye ...   \n",
       "1        wanna grey still random kisses line Walmart   \n",
       "2                       Dont Walmart wear mask rules   \n",
       "3  NedJeffers Youre most welcome have trouble hol...   \n",
       "4  OfficerPorkChop LauraLynn209 Meanwhile walking...   \n",
       "\n",
       "                                     Tweet_tokenized platform  \n",
       "0  ['talbertswan', 'black', 'delegation', 'will',...  walmart  \n",
       "1  ['wanna', 'grey', 'still', 'random', 'kisses',...  walmart  \n",
       "2       ['dont', 'walmart', 'wear', 'mask', 'rules']  walmart  \n",
       "3  ['nedjeffers', 'youre', 'most', 'welcome', 'ha...  walmart  \n",
       "4  ['officerporkchop', 'lauralynn209', 'meanwhile...  walmart  "
      ]
     },
     "execution_count": 73,
     "metadata": {},
     "output_type": "execute_result"
    }
   ],
   "source": [
    "df_all=df_walmart.merge(df_amazon,how='outer').merge(df_target,how='outer').merge(df_eBay,how='outer').merge(df_Bestbuy,how='outer')\n",
    "df_all.head()"
   ]
  },
  {
   "cell_type": "code",
   "execution_count": 75,
   "metadata": {},
   "outputs": [
    {
     "data": {
      "text/html": [
       "<div>\n",
       "<style scoped>\n",
       "    .dataframe tbody tr th:only-of-type {\n",
       "        vertical-align: middle;\n",
       "    }\n",
       "\n",
       "    .dataframe tbody tr th {\n",
       "        vertical-align: top;\n",
       "    }\n",
       "\n",
       "    .dataframe thead th {\n",
       "        text-align: right;\n",
       "    }\n",
       "</style>\n",
       "<table border=\"1\" class=\"dataframe\">\n",
       "  <thead>\n",
       "    <tr style=\"text-align: right;\">\n",
       "      <th></th>\n",
       "      <th>lang</th>\n",
       "      <th>Tweet_tokenized</th>\n",
       "      <th>platform</th>\n",
       "    </tr>\n",
       "  </thead>\n",
       "  <tbody>\n",
       "    <tr>\n",
       "      <th>0</th>\n",
       "      <td>en</td>\n",
       "      <td>['talbertswan', 'black', 'delegation', 'will',...</td>\n",
       "      <td>walmart</td>\n",
       "    </tr>\n",
       "    <tr>\n",
       "      <th>1</th>\n",
       "      <td>en</td>\n",
       "      <td>['wanna', 'grey', 'still', 'random', 'kisses',...</td>\n",
       "      <td>walmart</td>\n",
       "    </tr>\n",
       "    <tr>\n",
       "      <th>2</th>\n",
       "      <td>en</td>\n",
       "      <td>['dont', 'walmart', 'wear', 'mask', 'rules']</td>\n",
       "      <td>walmart</td>\n",
       "    </tr>\n",
       "    <tr>\n",
       "      <th>3</th>\n",
       "      <td>en</td>\n",
       "      <td>['nedjeffers', 'youre', 'most', 'welcome', 'ha...</td>\n",
       "      <td>walmart</td>\n",
       "    </tr>\n",
       "    <tr>\n",
       "      <th>4</th>\n",
       "      <td>en</td>\n",
       "      <td>['officerporkchop', 'lauralynn209', 'meanwhile...</td>\n",
       "      <td>walmart</td>\n",
       "    </tr>\n",
       "  </tbody>\n",
       "</table>\n",
       "</div>"
      ],
      "text/plain": [
       "  lang                                    Tweet_tokenized platform\n",
       "0   en  ['talbertswan', 'black', 'delegation', 'will',...  walmart\n",
       "1   en  ['wanna', 'grey', 'still', 'random', 'kisses',...  walmart\n",
       "2   en       ['dont', 'walmart', 'wear', 'mask', 'rules']  walmart\n",
       "3   en  ['nedjeffers', 'youre', 'most', 'welcome', 'ha...  walmart\n",
       "4   en  ['officerporkchop', 'lauralynn209', 'meanwhile...  walmart"
      ]
     },
     "execution_count": 75,
     "metadata": {},
     "output_type": "execute_result"
    }
   ],
   "source": [
    "df_all_copy=df_all.drop(['public_metrics','edit_history_tweet_ids','id','created_at','author_id','text','cleaned_text','source'],axis=1)\n",
    "df_all_copy.head()"
   ]
  },
  {
   "cell_type": "code",
   "execution_count": 76,
   "metadata": {},
   "outputs": [
    {
     "data": {
      "text/html": [
       "<div>\n",
       "<style scoped>\n",
       "    .dataframe tbody tr th:only-of-type {\n",
       "        vertical-align: middle;\n",
       "    }\n",
       "\n",
       "    .dataframe tbody tr th {\n",
       "        vertical-align: top;\n",
       "    }\n",
       "\n",
       "    .dataframe thead th {\n",
       "        text-align: right;\n",
       "    }\n",
       "</style>\n",
       "<table border=\"1\" class=\"dataframe\">\n",
       "  <thead>\n",
       "    <tr style=\"text-align: right;\">\n",
       "      <th></th>\n",
       "      <th>lang</th>\n",
       "      <th>Tweet_tokenized</th>\n",
       "      <th>platform</th>\n",
       "    </tr>\n",
       "  </thead>\n",
       "  <tbody>\n",
       "    <tr>\n",
       "      <th>0</th>\n",
       "      <td>en</td>\n",
       "      <td>talbertswan black delegation will trade kanye ...</td>\n",
       "      <td>walmart</td>\n",
       "    </tr>\n",
       "    <tr>\n",
       "      <th>1</th>\n",
       "      <td>en</td>\n",
       "      <td>wanna grey still random kisses line walmart</td>\n",
       "      <td>walmart</td>\n",
       "    </tr>\n",
       "    <tr>\n",
       "      <th>2</th>\n",
       "      <td>en</td>\n",
       "      <td>dont walmart wear mask rules</td>\n",
       "      <td>walmart</td>\n",
       "    </tr>\n",
       "    <tr>\n",
       "      <th>3</th>\n",
       "      <td>en</td>\n",
       "      <td>nedjeffers youre most welcome have trouble hol...</td>\n",
       "      <td>walmart</td>\n",
       "    </tr>\n",
       "    <tr>\n",
       "      <th>4</th>\n",
       "      <td>en</td>\n",
       "      <td>officerporkchop lauralynn209 meanwhile walking...</td>\n",
       "      <td>walmart</td>\n",
       "    </tr>\n",
       "  </tbody>\n",
       "</table>\n",
       "</div>"
      ],
      "text/plain": [
       "  lang                                    Tweet_tokenized platform\n",
       "0   en  talbertswan black delegation will trade kanye ...  walmart\n",
       "1   en        wanna grey still random kisses line walmart  walmart\n",
       "2   en                       dont walmart wear mask rules  walmart\n",
       "3   en  nedjeffers youre most welcome have trouble hol...  walmart\n",
       "4   en  officerporkchop lauralynn209 meanwhile walking...  walmart"
      ]
     },
     "execution_count": 76,
     "metadata": {},
     "output_type": "execute_result"
    }
   ],
   "source": [
    "tweet=[]\n",
    "for i in df_all_copy['Tweet_tokenized']:\n",
    "  n=i.replace(\"[\",\"\").replace(\"]\",\"\").replace(\"'\",\"\").replace(\",\",\"\")\n",
    "  tweet.append(n)\n",
    "\n",
    "df_all_copy['Tweet_tokenized']=tweet\n",
    "df_all_copy.head()"
   ]
  },
  {
   "cell_type": "code",
   "execution_count": 77,
   "metadata": {},
   "outputs": [
    {
     "data": {
      "text/html": [
       "<div>\n",
       "<style scoped>\n",
       "    .dataframe tbody tr th:only-of-type {\n",
       "        vertical-align: middle;\n",
       "    }\n",
       "\n",
       "    .dataframe tbody tr th {\n",
       "        vertical-align: top;\n",
       "    }\n",
       "\n",
       "    .dataframe thead th {\n",
       "        text-align: right;\n",
       "    }\n",
       "</style>\n",
       "<table border=\"1\" class=\"dataframe\">\n",
       "  <thead>\n",
       "    <tr style=\"text-align: right;\">\n",
       "      <th></th>\n",
       "      <th>lang</th>\n",
       "      <th>Tweet_tokenized</th>\n",
       "      <th>platform</th>\n",
       "      <th>platform_cat</th>\n",
       "    </tr>\n",
       "  </thead>\n",
       "  <tbody>\n",
       "    <tr>\n",
       "      <th>0</th>\n",
       "      <td>en</td>\n",
       "      <td>talbertswan black delegation will trade kanye ...</td>\n",
       "      <td>walmart</td>\n",
       "      <td>4</td>\n",
       "    </tr>\n",
       "    <tr>\n",
       "      <th>1</th>\n",
       "      <td>en</td>\n",
       "      <td>wanna grey still random kisses line walmart</td>\n",
       "      <td>walmart</td>\n",
       "      <td>4</td>\n",
       "    </tr>\n",
       "    <tr>\n",
       "      <th>2</th>\n",
       "      <td>en</td>\n",
       "      <td>dont walmart wear mask rules</td>\n",
       "      <td>walmart</td>\n",
       "      <td>4</td>\n",
       "    </tr>\n",
       "    <tr>\n",
       "      <th>3</th>\n",
       "      <td>en</td>\n",
       "      <td>nedjeffers youre most welcome have trouble hol...</td>\n",
       "      <td>walmart</td>\n",
       "      <td>4</td>\n",
       "    </tr>\n",
       "    <tr>\n",
       "      <th>4</th>\n",
       "      <td>en</td>\n",
       "      <td>officerporkchop lauralynn209 meanwhile walking...</td>\n",
       "      <td>walmart</td>\n",
       "      <td>4</td>\n",
       "    </tr>\n",
       "  </tbody>\n",
       "</table>\n",
       "</div>"
      ],
      "text/plain": [
       "  lang                                    Tweet_tokenized platform  \\\n",
       "0   en  talbertswan black delegation will trade kanye ...  walmart   \n",
       "1   en        wanna grey still random kisses line walmart  walmart   \n",
       "2   en                       dont walmart wear mask rules  walmart   \n",
       "3   en  nedjeffers youre most welcome have trouble hol...  walmart   \n",
       "4   en  officerporkchop lauralynn209 meanwhile walking...  walmart   \n",
       "\n",
       "   platform_cat  \n",
       "0             4  \n",
       "1             4  \n",
       "2             4  \n",
       "3             4  \n",
       "4             4  "
      ]
     },
     "execution_count": 77,
     "metadata": {},
     "output_type": "execute_result"
    }
   ],
   "source": [
    "from sklearn.preprocessing import LabelEncoder\n",
    "labelencoder = LabelEncoder()\n",
    "df_all_copy['platform_cat'] = labelencoder.fit_transform(df_all_copy['platform'])\n",
    "df_all_copy.head()"
   ]
  },
  {
   "cell_type": "code",
   "execution_count": 79,
   "metadata": {},
   "outputs": [
    {
     "name": "stdout",
     "output_type": "stream",
     "text": [
      "Training dataset:  441\n",
      "Test dataset:  50\n"
     ]
    }
   ],
   "source": [
    "from sklearn.model_selection import train_test_split\n",
    "\n",
    "X_train, X_test, y_train, y_test = train_test_split(\n",
    "    df_all_copy['Tweet_tokenized'], \n",
    "    df_all_copy['platform_cat'], \n",
    "    random_state = 1,test_size=0.1\n",
    ")\n",
    "\n",
    "print(\"Training dataset: \", X_train.shape[0])\n",
    "print(\"Test dataset: \", X_test.shape[0])"
   ]
  },
  {
   "cell_type": "code",
   "execution_count": 80,
   "metadata": {},
   "outputs": [
    {
     "data": {
      "text/plain": [
       "array([2, 1, 0, 1, 1, 1, 0, 0, 4, 2, 4, 4, 3, 3, 0, 2, 0, 2, 1, 3, 0, 4,\n",
       "       2, 3, 0, 1, 2, 0, 0, 2, 1, 1, 0, 4, 2, 0, 4, 4, 0, 3, 0, 4, 2, 4,\n",
       "       2, 1, 4, 2, 2, 2])"
      ]
     },
     "execution_count": 80,
     "metadata": {},
     "output_type": "execute_result"
    }
   ],
   "source": [
    "from sklearn.feature_extraction.text import CountVectorizer\n",
    "\n",
    "count_vector = CountVectorizer(stop_words = 'english')\n",
    "training_data = count_vector.fit_transform(X_train)\n",
    "testing_data = count_vector.transform(X_test)\n",
    "\n",
    "from sklearn.naive_bayes import MultinomialNB\n",
    "\n",
    "naive_bayes = MultinomialNB()\n",
    "naive_bayes.fit(training_data, y_train)\n",
    "predictions = naive_bayes.predict(testing_data)\n",
    "predictions"
   ]
  },
  {
   "cell_type": "code",
   "execution_count": 81,
   "metadata": {},
   "outputs": [
    {
     "name": "stdout",
     "output_type": "stream",
     "text": [
      "Accuracy score:  0.78\n",
      "Recall score:  0.78\n",
      "Precision score:  0.8404102564102565\n",
      "F1 score:  0.790401902191376\n"
     ]
    }
   ],
   "source": [
    "from sklearn.metrics import accuracy_score, recall_score, precision_score, f1_score\n",
    "\n",
    "print(\"Accuracy score: \", accuracy_score(y_test, predictions))\n",
    "print(\"Recall score: \", recall_score(y_test, predictions, average = 'weighted'))\n",
    "print(\"Precision score: \", precision_score(y_test, predictions, average = 'weighted'))\n",
    "print(\"F1 score: \", f1_score(y_test, predictions, average = 'weighted'))"
   ]
  },
  {
   "cell_type": "code",
   "execution_count": 82,
   "metadata": {},
   "outputs": [
    {
     "data": {
      "image/png": "[encoded data removed]",
      "text/plain": [
       "<Figure size 720x504 with 2 Axes>"
      ]
     },
     "metadata": {},
     "output_type": "display_data"
    }
   ],
   "source": [
    "from sklearn.metrics import confusion_matrix\n",
    "cm=confusion_matrix(y_test, predictions)\n",
    "\n",
    "import seaborn as sn\n",
    "import matplotlib.pyplot as plt\n",
    "\n",
    "df_cm = pd.DataFrame(cm, range(5), range(5))\n",
    "plt.figure(figsize=(10,7))\n",
    "sn.set(font_scale=1.4) # for label size\n",
    "sn.heatmap(df_cm, annot=True, annot_kws={\"size\": 16}) # font size\n",
    "\n",
    "plt.show()"
   ]
  },
  {
   "cell_type": "code",
   "execution_count": 89,
   "metadata": {},
   "outputs": [
    {
     "data": {
      "text/html": [
       "<div>\n",
       "<style scoped>\n",
       "    .dataframe tbody tr th:only-of-type {\n",
       "        vertical-align: middle;\n",
       "    }\n",
       "\n",
       "    .dataframe tbody tr th {\n",
       "        vertical-align: top;\n",
       "    }\n",
       "\n",
       "    .dataframe thead th {\n",
       "        text-align: right;\n",
       "    }\n",
       "</style>\n",
       "<table border=\"1\" class=\"dataframe\">\n",
       "  <thead>\n",
       "    <tr style=\"text-align: right;\">\n",
       "      <th></th>\n",
       "      <th>lang</th>\n",
       "      <th>Tweet_tokenized</th>\n",
       "      <th>platform</th>\n",
       "      <th>platform_cat</th>\n",
       "    </tr>\n",
       "  </thead>\n",
       "  <tbody>\n",
       "    <tr>\n",
       "      <th>0</th>\n",
       "      <td>en</td>\n",
       "      <td>talbertswan black delegation will trade kanye ...</td>\n",
       "      <td>walmart</td>\n",
       "      <td>4</td>\n",
       "    </tr>\n",
       "    <tr>\n",
       "      <th>1</th>\n",
       "      <td>en</td>\n",
       "      <td>wanna grey still random kisses line walmart</td>\n",
       "      <td>walmart</td>\n",
       "      <td>4</td>\n",
       "    </tr>\n",
       "    <tr>\n",
       "      <th>2</th>\n",
       "      <td>en</td>\n",
       "      <td>dont walmart wear mask rules</td>\n",
       "      <td>walmart</td>\n",
       "      <td>4</td>\n",
       "    </tr>\n",
       "    <tr>\n",
       "      <th>3</th>\n",
       "      <td>en</td>\n",
       "      <td>nedjeffers youre most welcome have trouble hol...</td>\n",
       "      <td>walmart</td>\n",
       "      <td>4</td>\n",
       "    </tr>\n",
       "    <tr>\n",
       "      <th>4</th>\n",
       "      <td>en</td>\n",
       "      <td>officerporkchop lauralynn209 meanwhile walking...</td>\n",
       "      <td>walmart</td>\n",
       "      <td>4</td>\n",
       "    </tr>\n",
       "  </tbody>\n",
       "</table>\n",
       "</div>"
      ],
      "text/plain": [
       "  lang                                    Tweet_tokenized platform  \\\n",
       "0   en  talbertswan black delegation will trade kanye ...  walmart   \n",
       "1   en        wanna grey still random kisses line walmart  walmart   \n",
       "2   en                       dont walmart wear mask rules  walmart   \n",
       "3   en  nedjeffers youre most welcome have trouble hol...  walmart   \n",
       "4   en  officerporkchop lauralynn209 meanwhile walking...  walmart   \n",
       "\n",
       "   platform_cat  \n",
       "0             4  \n",
       "1             4  \n",
       "2             4  \n",
       "3             4  \n",
       "4             4  "
      ]
     },
     "execution_count": 89,
     "metadata": {},
     "output_type": "execute_result"
    }
   ],
   "source": [
    "# use to check the corresponding platform for each catalogue\n",
    "df_all_copy[df_all_copy['platform_cat']==4].head()"
   ]
  },
  {
   "cell_type": "code",
   "execution_count": 91,
   "metadata": {},
   "outputs": [
    {
     "data": {
      "image/png": "[encoded data removed]",
      "text/plain": [
       "<Figure size 720x720 with 2 Axes>"
      ]
     },
     "metadata": {},
     "output_type": "display_data"
    }
   ],
   "source": [
    "cmn = cm.astype('float') / cm.sum(axis=1)[:, np.newaxis]\n",
    "plt.figure(figsize=(10,10))\n",
    "ax= plt.subplot()\n",
    "sn.set(font_scale=1.4) # for label size\n",
    "sn.heatmap(cmn, annot=True, annot_kws={\"size\": 16}) # font size\n",
    "ax.set_xlabel('Predicted labels')\n",
    "ax.set_ylabel('True labels')\n",
    "ax.set_title('Confusion Matrix- Naive Bayes')\n",
    "ax.xaxis.set_ticklabels(['Bestbuy', 'amazon','eBay','target','walmart'],rotation=90)\n",
    "ax.yaxis.set_ticklabels(['Bestbuy', 'amazon','eBay','target','walmart'],rotation=0)\n",
    "plt.show()"
   ]
  },
  {
   "cell_type": "markdown",
   "metadata": {},
   "source": [
    "Final checking and Conclusion"
   ]
  },
  {
   "cell_type": "code",
   "execution_count": 92,
   "metadata": {},
   "outputs": [
    {
     "data": {
      "text/plain": [
       "array([2, 1, 0, 1, 1, 1, 0, 0, 4, 2, 4, 4, 3, 3, 0, 2, 0, 2, 1, 3, 0, 4,\n",
       "       2, 3, 0, 1, 2, 0, 0, 2, 1, 1, 0, 4, 2, 0, 4, 4, 0, 3, 0, 4, 2, 4,\n",
       "       2, 1, 4, 2, 2, 2])"
      ]
     },
     "execution_count": 92,
     "metadata": {},
     "output_type": "execute_result"
    }
   ],
   "source": [
    "from sklearn.feature_extraction.text import TfidfVectorizer\n",
    "\n",
    "tf_vector = TfidfVectorizer(stop_words = 'english')\n",
    "training_data1 = tf_vector.fit_transform(X_train)\n",
    "testing_data1 = tf_vector.transform(X_test)\n",
    "\n",
    "from sklearn.naive_bayes import MultinomialNB\n",
    "\n",
    "naive_bayes1 = MultinomialNB()\n",
    "naive_bayes1.fit(training_data1, y_train)\n",
    "\n",
    "predictions1 = naive_bayes.predict(testing_data1)\n",
    "predictions1"
   ]
  },
  {
   "cell_type": "code",
   "execution_count": 93,
   "metadata": {},
   "outputs": [
    {
     "name": "stdout",
     "output_type": "stream",
     "text": [
      "Accuracy score:  0.78\n",
      "Recall score:  0.78\n",
      "Precision score:  0.8404102564102565\n",
      "F1 score:  0.790401902191376\n"
     ]
    }
   ],
   "source": [
    "print(\"Accuracy score: \", accuracy_score(y_test, predictions1))\n",
    "print(\"Recall score: \", recall_score(y_test, predictions1, average = 'weighted'))\n",
    "print(\"Precision score: \", precision_score(y_test, predictions1, average = 'weighted'))\n",
    "print(\"F1 score: \", f1_score(y_test, predictions1, average = 'weighted'))"
   ]
  },
  {
   "cell_type": "markdown",
   "metadata": {},
   "source": [
    "The F-score of the test set is high(0.79), so this test is suitable.\n",
    "\n",
    "From the confusion matrix, we found that walmart is predicted with 89% which is the highest.\n",
    "\n",
    "The accuracy of testing can increased by adding more data points in training sets."
   ]
  }
 ],
 "metadata": {
  "kernelspec": {
   "display_name": "Python 3.9.0 64-bit",
   "language": "python",
   "name": "python3"
  },
  "language_info": {
   "codemirror_mode": {
    "name": "ipython",
    "version": 3
   },
   "file_extension": ".py",
   "mimetype": "text/x-python",
   "name": "python",
   "nbconvert_exporter": "python",
   "pygments_lexer": "ipython3",
   "version": "3.9.0"
  },
  "orig_nbformat": 4,
  "vscode": {
   "interpreter": {
    "hash": "f67b7cadb64e574ddc0d8662be380522de67a1aca27bdcaab88cf590190f0c06"
   }
  }
 },
 "nbformat": 4,
 "nbformat_minor": 2
}
